{
 "cells": [
  {
   "cell_type": "code",
   "execution_count": 1,
   "id": "a37144ff-70dc-4c66-9644-a9ca0225f781",
   "metadata": {},
   "outputs": [
    {
     "name": "stdin",
     "output_type": "stream",
     "text": [
      "Enter pickup longitude:  -73.9998168945312\n",
      "Enter pickup latitude:  40.738353729248\n"
     ]
    },
    {
     "name": "stdout",
     "output_type": "stream",
     "text": [
      "Predicted fare amount: $11.35\n"
     ]
    },
    {
     "name": "stderr",
     "output_type": "stream",
     "text": [
      "C:\\Users\\rohit\\anaconda3\\Lib\\site-packages\\sklearn\\base.py:439: UserWarning: X does not have valid feature names, but LinearRegression was fitted with feature names\n",
      "  warnings.warn(\n"
     ]
    },
    {
     "data": {
      "text/plain": [
       "11.346625772802664"
      ]
     },
     "execution_count": 1,
     "metadata": {},
     "output_type": "execute_result"
    }
   ],
   "source": [
    "import pandas as pd\n",
    "from sklearn.linear_model import LinearRegression\n",
    "\n",
    "# Load the dataset\n",
    "data = pd.read_csv(\"D:/LP3/ML/P5_uber.csv\")  # Replace with the actual file path if different\n",
    "\n",
    "# Select features and target variable\n",
    "# Use only the specified features for training (e.g., 'pickup_longitude' and 'pickup_latitude')\n",
    "X = data[['pickup_longitude', 'pickup_latitude']]\n",
    "y = data['fare_amount']\n",
    "\n",
    "# Create and train the Linear Regression model using only the selected features\n",
    "model = LinearRegression()\n",
    "model.fit(X, y)\n",
    "\n",
    "# Function to predict fare amount based on partial input\n",
    "def predict_fare(pickup_longitude=None, pickup_latitude=None):\n",
    "    input_data = [[pickup_longitude, pickup_latitude]]\n",
    "    fare_prediction = model.predict(input_data)\n",
    "    return fare_prediction[0]\n",
    "\n",
    "# Example usage for prediction with 2 features\n",
    "pickup_longitude = float(input(\"Enter pickup longitude: \"))\n",
    "pickup_latitude = float(input(\"Enter pickup latitude: \"))\n",
    "\n",
    "# Predict and display the fare amount\n",
    "predicted_fare = predict_fare(pickup_longitude=pickup_longitude, pickup_latitude=pickup_latitude)\n",
    "print(f\"Predicted fare amount: ${predicted_fare:.2f}\")\n",
    "predicted_fare"
   ]
  },
  {
   "cell_type": "code",
   "execution_count": null,
   "id": "fcaabe31-6ec9-4a06-b6c6-8b94e8cd7bba",
   "metadata": {},
   "outputs": [],
   "source": []
  }
 ],
 "metadata": {
  "kernelspec": {
   "display_name": "Python 3 (ipykernel)",
   "language": "python",
   "name": "python3"
  },
  "language_info": {
   "codemirror_mode": {
    "name": "ipython",
    "version": 3
   },
   "file_extension": ".py",
   "mimetype": "text/x-python",
   "name": "python",
   "nbconvert_exporter": "python",
   "pygments_lexer": "ipython3",
   "version": "3.11.7"
  }
 },
 "nbformat": 4,
 "nbformat_minor": 5
}
